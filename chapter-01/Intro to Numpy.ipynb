{
 "cells": [
  {
   "cell_type": "code",
   "execution_count": 40,
   "id": "f740ca80",
   "metadata": {},
   "outputs": [
    {
     "name": "stdout",
     "output_type": "stream",
     "text": [
      "1.20.1\n",
      "1.2.4\n"
     ]
    }
   ],
   "source": [
    "import numpy as np\n",
    "print(np.__version__)\n",
    "import pandas as pd\n",
    "print(pd.__version__)"
   ]
  },
  {
   "cell_type": "code",
   "execution_count": 12,
   "id": "a04adb43",
   "metadata": {},
   "outputs": [
    {
     "data": {
      "text/plain": [
       "array([0. , 0.1, 0.2, 0.3, 0.4, 0.5, 0.6, 0.7, 0.8, 0.9, 1. ])"
      ]
     },
     "execution_count": 12,
     "metadata": {},
     "output_type": "execute_result"
    }
   ],
   "source": [
    "#creating arrays\n",
    "\n",
    "#np.zeros(5)\n",
    "#np.ones(5)\n",
    "#np.full(5,3)\n",
    "#np.array([5,9,0,12,7])\n",
    "#np.arange(10)\n",
    "#np.arange(2,10)\n",
    "np.linspace(0,1,11)"
   ]
  },
  {
   "cell_type": "code",
   "execution_count": 18,
   "id": "511d5087",
   "metadata": {},
   "outputs": [
    {
     "data": {
      "text/plain": [
       "array([0., 0., 2., 0., 0.])"
      ]
     },
     "execution_count": 18,
     "metadata": {},
     "output_type": "execute_result"
    }
   ],
   "source": [
    "#multi-dimentinal array\n",
    "\n",
    "#np.zeros((5,2))\n",
    "n = np.array([[0., 0.],\n",
    "       [0., 0.],\n",
    "       [0., 0.],\n",
    "       [0., 0.],\n",
    "       [0., 0.]])\n",
    "n[0,1]\n",
    "n[2]\n",
    "n[2] = [9,2]\n",
    "n[:,1]"
   ]
  },
  {
   "cell_type": "code",
   "execution_count": 25,
   "id": "378fbb71",
   "metadata": {},
   "outputs": [
    {
     "data": {
      "text/plain": [
       "array([[15,  8],\n",
       "       [17, 22],\n",
       "       [73, 57],\n",
       "       [90, 62],\n",
       "       [83, 96]])"
      ]
     },
     "execution_count": 25,
     "metadata": {},
     "output_type": "execute_result"
    }
   ],
   "source": [
    "#Randomly generated arrays\n",
    "\n",
    "# seed will make the random generated number to be the same as \n",
    "# other person using it. The numbers will always e the same\n",
    "np.random.seed(2)\n",
    "np.random.rand(5,2)\n",
    "np.random.randn(5,2)\n",
    "5 * np.random.rand(5,2)\n",
    "np.random.randint(low =0, high = 100, size=(5,2))"
   ]
  },
  {
   "cell_type": "code",
   "execution_count": 26,
   "id": "78e7851a",
   "metadata": {},
   "outputs": [
    {
     "data": {
      "text/plain": [
       "array([0, 1, 2, 3, 4])"
      ]
     },
     "execution_count": 26,
     "metadata": {},
     "output_type": "execute_result"
    }
   ],
   "source": [
    "#Element-wise operations\n",
    "\n",
    "a=np.arange(5)\n",
    "a"
   ]
  },
  {
   "cell_type": "code",
   "execution_count": 31,
   "id": "7c6b27be",
   "metadata": {},
   "outputs": [
    {
     "data": {
      "text/plain": [
       "array([0, 2, 4, 6, 8])"
      ]
     },
     "execution_count": 31,
     "metadata": {},
     "output_type": "execute_result"
    }
   ],
   "source": [
    "a + 1\n",
    "b = a * 2\n",
    "b"
   ]
  },
  {
   "cell_type": "code",
   "execution_count": 34,
   "id": "a0932fbb",
   "metadata": {},
   "outputs": [
    {
     "data": {
      "text/plain": [
       "array([0])"
      ]
     },
     "execution_count": 34,
     "metadata": {},
     "output_type": "execute_result"
    }
   ],
   "source": [
    "# comparision operations\n",
    "\n",
    "a >=2\n",
    "a >= b\n",
    "# a >= b returns boolean, then the a [] returns which values satisfies \n",
    "# this operation\n",
    "a[a >= b]"
   ]
  },
  {
   "cell_type": "code",
   "execution_count": 35,
   "id": "c43e198b",
   "metadata": {},
   "outputs": [
    {
     "data": {
      "text/plain": [
       "1.4142135623730951"
      ]
     },
     "execution_count": 35,
     "metadata": {},
     "output_type": "execute_result"
    }
   ],
   "source": [
    "#Summary\n",
    "\n",
    "a.min()\n",
    "a.max()\n",
    "a.mean()\n",
    "a.sum()\n",
    "a.std()\n",
    "\n",
    "# same thing for multi dimensional arrays"
   ]
  },
  {
   "cell_type": "code",
   "execution_count": 44,
   "id": "197fcbc7",
   "metadata": {},
   "outputs": [],
   "source": [
    "def vector_vector_multiplication(u,v):\n",
    "    #assert if they are the same size\n",
    "    assert u.shape[0] == v.shape[0]\n",
    "    \n",
    "    n = u.shape[0]\n",
    "    result = 0.0\n",
    "    \n",
    "    for i in range(n):\n",
    "        result = result + u[i] * v[i]\n",
    "    \n",
    "    return result\n",
    "        "
   ]
  },
  {
   "cell_type": "code",
   "execution_count": 45,
   "id": "0b2548b5",
   "metadata": {},
   "outputs": [
    {
     "data": {
      "text/plain": [
       "14.0"
      ]
     },
     "execution_count": 45,
     "metadata": {},
     "output_type": "execute_result"
    }
   ],
   "source": [
    "vector_vector_multiplication(u,v)"
   ]
  },
  {
   "cell_type": "code",
   "execution_count": 46,
   "id": "143f2954",
   "metadata": {},
   "outputs": [
    {
     "data": {
      "text/plain": [
       "14"
      ]
     },
     "execution_count": 46,
     "metadata": {},
     "output_type": "execute_result"
    }
   ],
   "source": [
    "# similar way to the for loop we can use \n",
    "u.dot(v)"
   ]
  },
  {
   "cell_type": "code",
   "execution_count": 49,
   "id": "01e360c2",
   "metadata": {},
   "outputs": [],
   "source": [
    "def matrix_vector_multiplication(U,v):\n",
    "    assert U.shape[1] ==  v.shape[0]\n",
    "    \n",
    "    num_rows = U.shape[0]\n",
    "    result = np.zeros(num_rows)\n",
    "    \n",
    "    for i in range(num_rows):\n",
    "        result[i] = vector_vector_multiplication(U[i],v)\n",
    "    \n",
    "    return result"
   ]
  },
  {
   "cell_type": "code",
   "execution_count": 51,
   "id": "f574f969",
   "metadata": {},
   "outputs": [
    {
     "data": {
      "text/plain": [
       "array([ 54., 100., 317., 366., 454.])"
      ]
     },
     "execution_count": 51,
     "metadata": {},
     "output_type": "execute_result"
    }
   ],
   "source": [
    "matrix_vector_multiplication(M,x)"
   ]
  },
  {
   "cell_type": "code",
   "execution_count": 67,
   "id": "ee1d875f",
   "metadata": {},
   "outputs": [
    {
     "data": {
      "text/plain": [
       "array([ 54, 100, 317, 366, 454])"
      ]
     },
     "execution_count": 67,
     "metadata": {},
     "output_type": "execute_result"
    }
   ],
   "source": [
    "# similar way to the for loop we can use \n",
    "M.dot(x)"
   ]
  },
  {
   "cell_type": "code",
   "execution_count": 65,
   "id": "6f75d31a",
   "metadata": {},
   "outputs": [],
   "source": [
    "def matrix_matrix_multiplication(U,V):\n",
    "    assert U.shape[1] ==  V.shape[0]\n",
    "    \n",
    "    num_rows = U.shape[0]\n",
    "    num_cols = V.shape[1]\n",
    "    \n",
    "    result = np.zeros((num_rows,num_cols))\n",
    "    \n",
    "    for i in range(num_cols):\n",
    "        vi = V[:,i]\n",
    "        Uvi = matrix_vector_multiplication (U, vi)\n",
    "        result[:,i] = Uvi\n",
    "    \n",
    "    return result"
   ]
  },
  {
   "cell_type": "code",
   "execution_count": 66,
   "id": "fd43ba61",
   "metadata": {},
   "outputs": [
    {
     "data": {
      "text/plain": [
       "array([[ 1205.,  1199.,  1141.,   288.,  1434.],\n",
       "       [ 1883.,  2109.,  2483.,   792.,  2440.],\n",
       "       [ 6587.,  6883.,  7215.,  2052.,  8117.],\n",
       "       [ 7790.,  8006.,  8134.,  2232.,  9486.],\n",
       "       [ 8737.,  9635., 11073.,  3456., 11194.]])"
      ]
     },
     "execution_count": 66,
     "metadata": {},
     "output_type": "execute_result"
    }
   ],
   "source": [
    "matrix_matrix_multiplication(M,N)"
   ]
  },
  {
   "cell_type": "code",
   "execution_count": 68,
   "id": "b96d93ef",
   "metadata": {},
   "outputs": [
    {
     "data": {
      "text/plain": [
       "array([[ 1205,  1199,  1141,   288,  1434],\n",
       "       [ 1883,  2109,  2483,   792,  2440],\n",
       "       [ 6587,  6883,  7215,  2052,  8117],\n",
       "       [ 7790,  8006,  8134,  2232,  9486],\n",
       "       [ 8737,  9635, 11073,  3456, 11194]])"
      ]
     },
     "execution_count": 68,
     "metadata": {},
     "output_type": "execute_result"
    }
   ],
   "source": [
    "M.dot(N)"
   ]
  },
  {
   "cell_type": "code",
   "execution_count": 62,
   "id": "67d1b1d5",
   "metadata": {},
   "outputs": [
    {
     "data": {
      "text/plain": [
       "True"
      ]
     },
     "execution_count": 62,
     "metadata": {},
     "output_type": "execute_result"
    }
   ],
   "source": [
    "#vector operations \n",
    "\n",
    "#vectors in numpy are rows instead of columns in linear algebra \n",
    "\n",
    "u = np.array([2,4,5,6])\n",
    "v = np.array([1,0,0,2])\n",
    "x = np.array([2,3])\n",
    "\n",
    "# element-wise multiplication\n",
    "u * v\n",
    "\n",
    "M = np.array([[15,  8],\n",
    "       [17, 22],\n",
    "       [73, 57],\n",
    "       [90, 62],\n",
    "       [83, 96]])\n",
    "N = np.random.randint(low =0, high = 100, size=(2,5))\n",
    "\n"
   ]
  },
  {
   "cell_type": "code",
   "execution_count": 69,
   "id": "004fdb0c",
   "metadata": {},
   "outputs": [
    {
     "data": {
      "text/plain": [
       "array([[1., 0., 0., 0., 0.],\n",
       "       [0., 1., 0., 0., 0.],\n",
       "       [0., 0., 1., 0., 0.],\n",
       "       [0., 0., 0., 1., 0.],\n",
       "       [0., 0., 0., 0., 1.]])"
      ]
     },
     "execution_count": 69,
     "metadata": {},
     "output_type": "execute_result"
    }
   ],
   "source": [
    "#Identity matrix, I\n",
    "\n",
    "np.eye(5)"
   ]
  },
  {
   "cell_type": "code",
   "execution_count": 75,
   "id": "0167f6db",
   "metadata": {},
   "outputs": [
    {
     "data": {
      "text/plain": [
       "array([[15,  8],\n",
       "       [17, 22]])"
      ]
     },
     "execution_count": 75,
     "metadata": {},
     "output_type": "execute_result"
    }
   ],
   "source": [
    "#Inverse\n",
    "\n",
    "Vs = M[[0,1]]\n",
    "Vs"
   ]
  },
  {
   "cell_type": "code",
   "execution_count": 76,
   "id": "f469792e",
   "metadata": {},
   "outputs": [
    {
     "data": {
      "text/plain": [
       "array([[ 0.11340206, -0.04123711],\n",
       "       [-0.08762887,  0.07731959]])"
      ]
     },
     "execution_count": 76,
     "metadata": {},
     "output_type": "execute_result"
    }
   ],
   "source": [
    "Vs_inv = np.linalg.inv(Vs)\n",
    "Vs_inv"
   ]
  },
  {
   "cell_type": "code",
   "execution_count": 77,
   "id": "59aafb49",
   "metadata": {},
   "outputs": [
    {
     "data": {
      "text/plain": [
       "array([[ 1.00000000e+00,  0.00000000e+00],\n",
       "       [-2.22044605e-16,  1.00000000e+00]])"
      ]
     },
     "execution_count": 77,
     "metadata": {},
     "output_type": "execute_result"
    }
   ],
   "source": [
    "Vs_inv.dot(Vs)"
   ]
  },
  {
   "cell_type": "code",
   "execution_count": null,
   "id": "cd47877c",
   "metadata": {},
   "outputs": [],
   "source": []
  }
 ],
 "metadata": {
  "kernelspec": {
   "display_name": "Python 3",
   "language": "python",
   "name": "python3"
  },
  "language_info": {
   "codemirror_mode": {
    "name": "ipython",
    "version": 3
   },
   "file_extension": ".py",
   "mimetype": "text/x-python",
   "name": "python",
   "nbconvert_exporter": "python",
   "pygments_lexer": "ipython3",
   "version": "3.8.8"
  }
 },
 "nbformat": 4,
 "nbformat_minor": 5
}
